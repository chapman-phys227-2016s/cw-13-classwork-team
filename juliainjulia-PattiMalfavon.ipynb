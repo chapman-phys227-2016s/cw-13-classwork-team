{
 "cells": [
  {
   "cell_type": "markdown",
   "metadata": {
    "collapsed": false
   },
   "source": [
    "# Classwork 13 Julia\n",
    "\n",
    "### Taylor Patti and Andrew Malfavon"
   ]
  },
  {
   "cell_type": "code",
   "execution_count": null,
   "metadata": {
    "collapsed": true
   },
   "outputs": [],
   "source": [
    "\"\"\"\n",
    "juliamap(x, z; maxiter):\n",
    "    implement the iteration algorithm for a Julia Set.\n",
    "\n",
    "**Returns:** integer number of iterations, or zero if the iteration never diverges.\n",
    "\n",
    "- c : complex constant defining the set\n",
    "- z : complex number being iterated\n",
    "- maxiter : maximum iteration number, defaults to 100\n",
    "\"\"\"\n",
    "function juliamap(c, z; maxiter=100)\n",
    "    for n = 1:maxiter\n",
    "        z = z^2 + c\n",
    "        if abs(z) > 2\n",
    "            return n\n",
    "        end\n",
    "    end\n",
    "    return 0\n",
    "end\n",
    "\n",
    "@doc juliamap"
   ]
  },
  {
   "cell_type": "code",
   "execution_count": null,
   "metadata": {
    "collapsed": true
   },
   "outputs": [],
   "source": [
    "# Specialize juliamap to c=0\n",
    "j0(z) = juliamap(0,z)\n",
    "\n",
    "# Vectorize j0 over arrays of Complex numbers\n",
    "@vectorize_1arg Complex j0\n",
    "\n",
    "# List the available methods for j0 for different types\n",
    "methods(j0)"
   ]
  },
  {
   "cell_type": "code",
   "execution_count": null,
   "metadata": {
    "collapsed": true
   },
   "outputs": [],
   "source": [
    "# Create a complex plane\n",
    "function complex_plane(xmin=-2, xmax=2, ymin=-2, ymax=2; xpoints=2000, ypoints=2000)\n",
    "    # y is a column vector\n",
    "    y = linspace(ymin, ymax, ypoints)\n",
    "\n",
    "    # x uses a transpose, yielding a row vector\n",
    "    x = linspace(xmin, xmax, xpoints)'\n",
    "\n",
    "    # z uses broadcasted addition and multiplication to create a plane\n",
    "    z = x .+ y.*im;\n",
    "\n",
    "    # The final line of a block is treated as the return value, in the absence\n",
    "    # of an explicit return statement\n",
    "end"
   ]
  },
  {
   "cell_type": "code",
   "execution_count": null,
   "metadata": {
    "collapsed": true
   },
   "outputs": [],
   "source": [
    "# The vectorized function can be applied directly to the plane\n",
    "@time cp = complex_plane()\n",
    "@time j0p = j0(cp)"
   ]
  },
  {
   "cell_type": "markdown",
   "metadata": {},
   "source": [
    "The code works by generating two arrays and then doing the hvcat command on the transpose of the first array and the imaginary multiplied second array to form an n by n complex plane. The difference between the comma and the semicolon is that the comma gives you the transpose while the semicolon indicates the combination of horizontal and vertical concatination which should take place."
   ]
  },
  {
   "cell_type": "code",
   "execution_count": null,
   "metadata": {
    "collapsed": true
   },
   "outputs": [],
   "source": [
    "immutable ComplexPlane\n",
    "    x :: LinSpace{Float64}\n",
    "    y :: LinSpace{Float64}\n",
    "    z :: Array{Complex{Float64},2}\n",
    "    \n",
    "    function ComplexPlane(xmin=-2, xmax=2, ymin=-2, ymax=2;\n",
    "                            xpoints=2000, ypoints=2000)\n",
    "        x = linspace(xmin, xmax, xpoints)\n",
    "        y = linspace(ymin, ymax, ypoints)\n",
    "        z = x' .+ y.*im\n",
    "        new(x,y,z)\n",
    "    end\n",
    "end"
   ]
  },
  {
   "cell_type": "code",
   "execution_count": null,
   "metadata": {
    "collapsed": true
   },
   "outputs": [],
   "source": [
    "cp = ComplexPlane(xpoints=200,ypoints=200);\n",
    "typeof(cp)"
   ]
  },
  {
   "cell_type": "code",
   "execution_count": null,
   "metadata": {
    "collapsed": true
   },
   "outputs": [],
   "source": [
    "print(typeof(cp.x))\n",
    "j0(cp.z)"
   ]
  },
  {
   "cell_type": "markdown",
   "metadata": {},
   "source": [
    "A complex plane is being generated, but this time in a new way. First, x, y, and z are defined as immutable types. Immutable types are a kind of type, more speifically a kind of composite type. A type is just the way in which data is stored and the way in which data can be used. A composite type is like a data sturcture, such as an array. It holds various pieces of data in one sense, but is a single entity in another. Immutable types are such that they cannot be changed once they are constructed."
   ]
  },
  {
   "cell_type": "markdown",
   "metadata": {},
   "source": [
    "![alt text](julia.png)"
   ]
  },
  {
   "cell_type": "markdown",
   "metadata": {},
   "source": [
    "![alt text](julia1.png)"
   ]
  },
  {
   "cell_type": "markdown",
   "metadata": {},
   "source": [
    "![alt text](julia2.png)"
   ]
  },
  {
   "cell_type": "markdown",
   "metadata": {
    "collapsed": true
   },
   "source": [
    "![alt text](julia3.png)"
   ]
  },
  {
   "cell_type": "markdown",
   "metadata": {},
   "source": [
    "![alt text](julia4.png)"
   ]
  },
  {
   "cell_type": "code",
   "execution_count": null,
   "metadata": {
    "collapsed": true
   },
   "outputs": [],
   "source": []
  }
 ],
 "metadata": {
  "kernelspec": {
   "display_name": "Julia",
   "language": "julia",
   "name": "julia-0.4"
  },
  "language_info": {
   "codemirror_mode": {
    "name": "ipython",
    "version": 2
   },
   "file_extension": ".py",
   "mimetype": "text/x-python",
   "name": "python",
   "nbconvert_exporter": "python",
   "pygments_lexer": "ipython2",
   "version": "2.7.10"
  }
 },
 "nbformat": 4,
 "nbformat_minor": 0
}
