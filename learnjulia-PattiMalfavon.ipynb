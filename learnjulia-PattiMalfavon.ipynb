{
 "cells": [
  {
   "cell_type": "markdown",
   "metadata": {
    "collapsed": false
   },
   "source": [
    "# Classwork 13 Julia\n",
    "\n",
    "### Taylor Patti and Andrew Malfavon"
   ]
  },
  {
   "cell_type": "markdown",
   "metadata": {},
   "source": [
    "1. You can indicate a single comment with a # and multiple line comments with #= and =#. You can indicate assignment with an =. Printing is indicated by the println and printf functions.\n",
    "\n",
    "2. First and foremost we have the strings and the characters. Strings are collections of one or more characters indicated by quotation marks. Characters are single characters indicated by single apostrofes. Then we have the number types. Integers can be initiated with IntN if tey are normal sized or BigInt if they are very large. Float numbers are similar, with FloatN and BigFloat respectively. Complex numbers are ComplexN and imaginary are im. You can define these things by the comands like\n",
    "\n",
    "number = BigInt(7)\n",
    "\n",
    "Three.) It has all of the typical data control structures, like for and while loops, if statements, if-elseif-else-end, and so on. It of course has the capacity to nest these control statements and also provides the break and continue commands.\n",
    "\n",
    "Four.) The syntax for type declaration is different in Julia. For instance FloatN is different than float. Julia also seems to have a greater number of options when it comes to data types, as it provides options for allocating more memory to large numbers such as BigInt and BigFloat types. Some obvious similarities are the structures of the data control, which are essentially identical in their varities and purposes."
   ]
  },
  {
   "cell_type": "markdown",
   "metadata": {},
   "source": [
    "First we illustrate the first portion. Observe how commenting, assignment, and printing is illustrated in the following cell."
   ]
  },
  {
   "cell_type": "code",
   "execution_count": null,
   "metadata": {
    "collapsed": false
   },
   "outputs": [],
   "source": [
    "# here's a single line comment\n",
    "\n",
    "#= observe\n",
    "my\n",
    "comment\n",
    "of\n",
    "many\n",
    "lines =#\n",
    "\n",
    "number = BigInt(5)\n",
    "println(number)"
   ]
  },
  {
   "cell_type": "markdown",
   "metadata": {},
   "source": [
    "In the folowing cell we explore the different data types. Notice how a character is determined by a single apostrophe set while strings require quotation marks. You can cast numbers as both integers and floats, but when you add an integer and a float, the number produced defaults to a float, as is fitting and typical."
   ]
  },
  {
   "cell_type": "code",
   "execution_count": null,
   "metadata": {
    "collapsed": false
   },
   "outputs": [],
   "source": [
    "character = 'a'\n",
    "println(character)\n",
    "println(typeof(character))\n",
    "stringwords = \"blah blah pokemon\"\n",
    "println(stringwords)\n",
    "println(typeof(stringwords))\n",
    "numberInt = BigInt(10000000000)\n",
    "otherFloat = BigFloat(100000000000000000)\n",
    "println(numberInt)\n",
    "println(otherFloat)\n",
    "println(numberInt + otherFloat)\n",
    "println(typeof(numberInt + otherFloat))"
   ]
  },
  {
   "cell_type": "markdown",
   "metadata": {
    "collapsed": true
   },
   "source": [
    "Here we show some basic boolean and loop structure by requiring an if statement to trigger a simple while loop. The syntax is remarkably similar to python. The differences are that parenthesis are not required to envelop the boolean statements nor are they denotated by colons. End statements are also required rather than just relying on indentation."
   ]
  },
  {
   "cell_type": "code",
   "execution_count": null,
   "metadata": {
    "collapsed": false
   },
   "outputs": [],
   "source": [
    "num = 1\n",
    "if num == 1\n",
    "    while num <= 10\n",
    "        println(num)\n",
    "        num = num + 1\n",
    "    end\n",
    "else\n",
    "    println(\"You did this wrong.\")\n",
    "end"
   ]
  },
  {
   "cell_type": "markdown",
   "metadata": {
    "collapsed": true
   },
   "source": [
    "Fibonacci Example goes like this."
   ]
  },
  {
   "cell_type": "code",
   "execution_count": 11,
   "metadata": {
    "collapsed": false
   },
   "outputs": [
    {
     "name": "stdout",
     "output_type": "stream",
     "text": [
      "1\n",
      "1\n",
      "2\n",
      "3\n",
      "5\n",
      "8\n",
      "13\n",
      "21\n",
      "34\n",
      "55\n",
      "89\n",
      "144\n",
      "233\n",
      "377\n",
      "610\n",
      "987\n",
      "1597\n",
      "2584\n",
      "4181\n",
      "6765\n",
      "10946\n",
      "17711\n",
      "28657\n",
      "46368\n",
      "75025\n",
      "121393\n",
      "196418\n",
      "317811\n",
      "514229\n",
      "832040\n",
      "1346269\n",
      "2178309\n",
      "3524578\n",
      "5702887\n",
      "9227465\n",
      "14930352\n",
      "24157817\n",
      "39088169\n",
      "63245986\n",
      "102334155\n",
      "165580141\n",
      "267914296\n",
      "433494437\n",
      "701408733\n",
      "1134903170\n",
      "1836311903\n",
      "2971215073\n",
      "4807526976\n",
      "7778742049\n",
      "12586269025\n",
      "20365011074\n",
      "32951280099\n",
      "53316291173\n",
      "86267571272\n",
      "139583862445\n",
      "225851433717\n",
      "365435296162\n",
      "591286729879\n",
      "956722026041\n",
      "1548008755920\n",
      "2504730781961\n",
      "4052739537881\n",
      "6557470319842\n",
      "10610209857723\n",
      "17167680177565\n",
      "27777890035288\n",
      "44945570212853\n",
      "72723460248141\n",
      "117669030460994\n",
      "190392490709135\n",
      "308061521170129\n",
      "498454011879264\n",
      "806515533049393\n",
      "1304969544928657\n",
      "2111485077978050\n",
      "3416454622906707\n",
      "5527939700884757\n",
      "8944394323791464\n",
      "14472334024676221\n",
      "23416728348467685\n",
      "37889062373143906\n",
      "61305790721611591\n",
      "99194853094755497\n",
      "160500643816367088\n",
      "259695496911122585\n",
      "420196140727489673\n",
      "679891637638612258\n",
      "1100087778366101931\n",
      "1779979416004714189\n",
      "2880067194370816120\n",
      "4660046610375530309\n",
      "7540113804746346429\n",
      "12200160415121876738\n",
      "19740274219868223167\n",
      "31940434634990099905\n",
      "51680708854858323072\n",
      "83621143489848422977\n",
      "135301852344706746049\n",
      "218922995834555169026\n",
      "354224848179261915075\n",
      "573147844013817084101\n"
     ]
    }
   ],
   "source": [
    "num = BigInt(1)\n",
    "num1 = BigInt(0)\n",
    "count = BigInt(1)\n",
    "println(num)\n",
    "\n",
    "\n",
    "while count <= 100\n",
    "    num2 = num1\n",
    "    num1 = num\n",
    "    num = num1 + num2\n",
    "    println(num)\n",
    "    count = count + 1\n",
    "end"
   ]
  }
 ],
 "metadata": {
  "kernelspec": {
   "display_name": "Julia",
   "language": "julia",
   "name": "julia-0.4"
  },
  "language_info": {
   "file_extension": ".jl",
   "mimetype": "application/julia",
   "name": "julia",
   "version": "0.4.1"
  }
 },
 "nbformat": 4,
 "nbformat_minor": 0
}
