{
 "cells": [
  {
   "cell_type": "markdown",
   "metadata": {
    "collapsed": false
   },
   "source": [
    "# Classwork 13\n",
    "\n",
    "### Michael Seaman (Chinmai Aaaman)\n",
    "\n",
    "#### 5.10.16\n",
    "\n",
    "\n",
    "Exploring Julia and completeting small tasks.\n",
    "To be answered:\n",
    "\n",
    "What is the julia syntax for the following?\n",
    "\n",
    "    comments, variable declarations, printing output\n",
    "    \n",
    "What are the basic julia data types?  How do you define and use them?\n",
    "\n",
    "What basic control structures are available in julia? (for, while, etc.)\n",
    "\n",
    "What are some notable differences between Python and julia?  What are some notable similarities?"
   ]
  },
  {
   "cell_type": "code",
   "execution_count": 1,
   "metadata": {
    "collapsed": false,
    "scrolled": true
   },
   "outputs": [
    {
     "name": "stdout",
     "output_type": "stream",
     "text": [
      "to Declare variables, there is No need to specify type, unless needed\n"
     ]
    }
   ],
   "source": [
    "# How do you do comments?\n",
    "#=\n",
    "It's actually pretty simple you fool\n",
    "=#\n",
    "string1 = \"Declare variables\"\n",
    "string2 = \"No need to specify type, unless needed\"\n",
    "println(string(\"to \", string1, \", there is \", string2))"
   ]
  },
  {
   "cell_type": "code",
   "execution_count": 2,
   "metadata": {
    "collapsed": false
   },
   "outputs": [
    {
     "name": "stdout",
     "output_type": "stream",
     "text": [
      "UInt64[0x0000000000000001,0x0000000000000001,0x0000000000000002,0x0000000000000003,0x0000000000000005,0x0000000000000008,0x000000000000000d,0x0000000000000015,0x0000000000000022,0x0000000000000037,0x0000000000000059,0x0000000000000090,0x00000000000000e9,0x0000000000000179,0x0000000000000262,0x00000000000003db,0x000000000000063d,0x0000000000000a18,0x0000000000001055,0x0000000000001a6d,0x0000000000002ac2,0x000000000000452f,0x0000000000006ff1,0x000000000000b520,0x0000000000012511,0x000000000001da31,0x000000000002ff42,0x000000000004d973,0x000000000007d8b5,0x00000000000cb228,0x0000000000148add,0x0000000000213d05,0x000000000035c7e2,0x00000000005704e7,0x00000000008cccc9,0x0000000000e3d1b0,0x0000000001709e79,0x0000000002547029,0x0000000003c50ea2,0x0000000006197ecb,0x0000000009de8d6d,0x000000000ff80c38,0x0000000019d699a5,0x0000000029cea5dd,0x0000000043a53f82,0x000000006d73e55f,0x00000000b11924e1,0x000000011e8d0a40,0x00000001cfa62f21,0x00000002ee333961,0x00000004bdd96882,0x00000007ac0ca1e3,0x0000000c69e60a65,0x0000001415f2ac48,0x000000207fd8b6ad,0x0000003495cb62f5,0x0000005515a419a2,0x00000089ab6f7c97,0x000000dec1139639,0x000001686c8312d0,0x000002472d96a909,0x000003af9a19bbd9,0x000005f6c7b064e2,0x000009a661ca20bb,0x00000f9d297a859d,0x000019438b44a658,0x000028e0b4bf2bf5,0x000042244003d24d,0x00006b04f4c2fe42,0x0000ad2934c6d08f,0x0001182e2989ced1,0x0001c5575e509f60,0x0002dd8587da6e31,0x0004a2dce62b0d91,0x000780626e057bc2,0x000c233f54308953,0x0013a3a1c2360515,0x001fc6e116668e68,0x00336a82d89c937d,0x00533163ef0321e5,0x00869be6c79fb562,0x00d9cd4ab6a2d747,0x016069317e428ca9,0x023a367c34e563f0,0x039a9fadb327f099,0x05d4d629e80d5489,0x096f75d79b354522,0x0f444c01834299ab,0x18b3c1d91e77decd,0x27f80ddaa1ba7878,0x40abcfb3c0325745,0x68a3dd8e61eccfbd,0xa94fad42221f2702,0x11f38ad0840bf6bf,0xbb433812a62b1dc1,0xcd36c2e32a371480,0x8879faf5d0623241,0x55b0bdd8fa9946c1,0xde2ab8cecafb7902,0x33db76a7c594bfc3]\n"
     ]
    }
   ],
   "source": [
    "function fib(n)\n",
    "    if n == 0\n",
    "        return 0\n",
    "    elseif n == 1\n",
    "        return 1\n",
    "    else\n",
    "        return fib(n-1) + fib(n-2)\n",
    "    end\n",
    "end\n",
    "    \n",
    "function fib_seq(n)\n",
    "    out = UInt64[1,1]\n",
    "    for i in 3:n\n",
    "        push!(out, out[i-1] + out[i-2])\n",
    "    end\n",
    "    return out\n",
    "end\n",
    "\n",
    "println(fib_seq(100))\n"
   ]
  },
  {
   "cell_type": "code",
   "execution_count": 4,
   "metadata": {
    "collapsed": false
   },
   "outputs": [
    {
     "data": {
      "text/latex": [
       "juliamap(c,z; maxiter) :   Implement the iteration algorithm for a Julia Set.\n",
       "\\textbf{Returns:} integer number of iterations, or zero if the iteration never diverges.\n",
       "\\begin{itemize}\n",
       "\\item c : complex constant definining the set\n",
       "\\item z : complex number being iterated\n",
       "\\item maxiter : maximum iteration number, defaults to 100\n",
       "\\end{itemize}\n"
      ],
      "text/markdown": [
       "juliamap(c,z; maxiter) :   Implement the iteration algorithm for a Julia Set.\n",
       "\n",
       "**Returns:** integer number of iterations, or zero if the iteration never diverges.\n",
       "\n",
       "  * c : complex constant definining the set\n",
       "  * z : complex number being iterated\n",
       "  * maxiter : maximum iteration number, defaults to 100\n"
      ],
      "text/plain": [
       "juliamap(c,z; maxiter) :   Implement the iteration algorithm for a Julia Set.\n",
       "\n",
       "**Returns:** integer number of iterations, or zero if the iteration never diverges.\n",
       "\n",
       "  * c : complex constant definining the set\n",
       "  * z : complex number being iterated\n",
       "  * maxiter : maximum iteration number, defaults to 100\n"
      ]
     },
     "execution_count": 4,
     "metadata": {},
     "output_type": "execute_result"
    }
   ],
   "source": [
    "\"\"\"\n",
    "juliamap(c,z; maxiter) :\n",
    "  Implement the iteration algorithm for a Julia Set.\n",
    "\n",
    "**Returns:** integer number of iterations, or zero\n",
    "if the iteration never diverges.\n",
    "\n",
    " - c : complex constant definining the set\n",
    " - z : complex number being iterated\n",
    " - maxiter : maximum iteration number, defaults to 100\n",
    "\"\"\"\n",
    "function juliamap(c, z; maxiter = 100)\n",
    "    for n = 1:maxiter\n",
    "        z = z^2 + c\n",
    "        if abs(z) > 2\n",
    "            return n\n",
    "        end\n",
    "    end\n",
    "    return 0\n",
    "end\n",
    "\n",
    "@doc juliamap"
   ]
  },
  {
   "cell_type": "code",
   "execution_count": 5,
   "metadata": {
    "collapsed": false
   },
   "outputs": [
    {
     "data": {
      "text/html": [
       "4 methods for generic function <b>j0</b>:<ul><li> j0<i>{T<:Complex{T<:Real}}</i>(::<b>AbstractArray{T<:Complex{T<:Real},1}</b>) at <a href=\"file:///usr/bin/../share/julia/base/operators.jl\" target=\"_blank\">operators.jl:380</a><li> j0<i>{T<:Complex{T<:Real}}</i>(::<b>AbstractArray{T<:Complex{T<:Real},2}</b>) at <a href=\"file:///usr/bin/../share/julia/base/operators.jl\" target=\"_blank\">operators.jl:381</a><li> j0<i>{T<:Complex{T<:Real}}</i>(::<b>AbstractArray{T<:Complex{T<:Real},N}</b>) at <a href=\"file:///usr/bin/../share/julia/base/operators.jl\" target=\"_blank\">operators.jl:383</a><li> j0(z) at In[5]:2</ul>"
      ],
      "text/plain": [
       "# 4 methods for generic function \"j0\":\n",
       "j0{T<:Complex{T<:Real}}(::AbstractArray{T<:Complex{T<:Real},1}) at operators.jl:380\n",
       "j0{T<:Complex{T<:Real}}(::AbstractArray{T<:Complex{T<:Real},2}) at operators.jl:381\n",
       "j0{T<:Complex{T<:Real}}(::AbstractArray{T<:Complex{T<:Real},N}) at operators.jl:383\n",
       "j0(z) at In[5]:2"
      ]
     },
     "execution_count": 5,
     "metadata": {},
     "output_type": "execute_result"
    }
   ],
   "source": [
    "# Specialize juliamap to c=0\n",
    "j0(z) = juliamap(0,z)\n",
    "\n",
    "# Vectorize j0 over arrays of Complex numbers\n",
    "@vectorize_1arg Complex j0\n",
    "\n",
    "# List the available methods for j0 for different types\n",
    "methods(j0)"
   ]
  },
  {
   "cell_type": "markdown",
   "metadata": {},
   "source": [
    "It seems that the call to vectorize_large enables z to be passed in as a complex array as opposed to a single complex number. This is awfully similar to the vectorize call in numpy."
   ]
  },
  {
   "cell_type": "code",
   "execution_count": 13,
   "metadata": {
    "collapsed": false
   },
   "outputs": [
    {
     "data": {
      "text/plain": [
       "complex_plane (generic function with 5 methods)"
      ]
     },
     "execution_count": 13,
     "metadata": {},
     "output_type": "execute_result"
    }
   ],
   "source": [
    "# Create a complex plane\n",
    "function complex_plane(xmin=-2, xmax=2, ymin=-2, ymax=2; xpoints=2000, ypoints=2000)\n",
    "    # y is a column vector\n",
    "    y = linspace(ymin, ymax, ypoints)\n",
    "\n",
    "    # x uses a transpose, yielding a row vector\n",
    "    x = linspace(xmin, xmax, xpoints)'\n",
    "\n",
    "    # z uses broadcasted addition and multiplication to create a plane\n",
    "    z = x .+ y.*im;\n",
    "\n",
    "    # The final line of a block is treated as the return value, in the absence\n",
    "    # of an explicit return statement\n",
    "end"
   ]
  },
  {
   "cell_type": "code",
   "execution_count": 12,
   "metadata": {
    "collapsed": false
   },
   "outputs": [
    {
     "name": "stdout",
     "output_type": "stream",
     "text": [
      "Array{Complex{Float64},2}\n",
      "  0.315995 seconds (61.72 k allocations: 125.303 MB, 34.92% gc time)\n",
      "  "
     ]
    },
    {
     "data": {
      "text/plain": [
       "2000x2000 Array{Int64,2}:\n",
       " 1  1  1  1  1  1  1  1  1  1  1  1  1  …  1  1  1  1  1  1  1  1  1  1  1  1\n",
       " 1  1  1  1  1  1  1  1  1  1  1  1  1     1  1  1  1  1  1  1  1  1  1  1  1\n",
       " 1  1  1  1  1  1  1  1  1  1  1  1  1     1  1  1  1  1  1  1  1  1  1  1  1\n",
       " 1  1  1  1  1  1  1  1  1  1  1  1  1     1  1  1  1  1  1  1  1  1  1  1  1\n",
       " 1  1  1  1  1  1  1  1  1  1  1  1  1     1  1  1  1  1  1  1  1  1  1  1  1\n",
       " 1  1  1  1  1  1  1  1  1  1  1  1  1  …  1  1  1  1  1  1  1  1  1  1  1  1\n",
       " 1  1  1  1  1  1  1  1  1  1  1  1  1     1  1  1  1  1  1  1  1  1  1  1  1\n",
       " 1  1  1  1  1  1  1  1  1  1  1  1  1     1  1  1  1  1  1  1  1  1  1  1  1\n",
       " 1  1  1  1  1  1  1  1  1  1  1  1  1     1  1  1  1  1  1  1  1  1  1  1  1\n",
       " 1  1  1  1  1  1  1  1  1  1  1  1  1     1  1  1  1  1  1  1  1  1  1  1  1\n",
       " 1  1  1  1  1  1  1  1  1  1  1  1  1  …  1  1  1  1  1  1  1  1  1  1  1  1\n",
       " 1  1  1  1  1  1  1  1  1  1  1  1  1     1  1  1  1  1  1  1  1  1  1  1  1\n",
       " 1  1  1  1  1  1  1  1  1  1  1  1  1     1  1  1  1  1  1  1  1  1  1  1  1\n",
       " ⋮              ⋮              ⋮        ⋱        ⋮              ⋮            \n",
       " 1  1  1  1  1  1  1  1  1  1  1  1  1     1  1  1  1  1  1  1  1  1  1  1  1\n",
       " 1  1  1  1  1  1  1  1  1  1  1  1  1     1  1  1  1  1  1  1  1  1  1  1  1\n",
       " 1  1  1  1  1  1  1  1  1  1  1  1  1  …  1  1  1  1  1  1  1  1  1  1  1  1\n",
       " 1  1  1  1  1  1  1  1  1  1  1  1  1     1  1  1  1  1  1  1  1  1  1  1  1\n",
       " 1  1  1  1  1  1  1  1  1  1  1  1  1     1  1  1  1  1  1  1  1  1  1  1  1\n",
       " 1  1  1  1  1  1  1  1  1  1  1  1  1     1  1  1  1  1  1  1  1  1  1  1  1\n",
       " 1  1  1  1  1  1  1  1  1  1  1  1  1     1  1  1  1  1  1  1  1  1  1  1  1\n",
       " 1  1  1  1  1  1  1  1  1  1  1  1  1  …  1  1  1  1  1  1  1  1  1  1  1  1\n",
       " 1  1  1  1  1  1  1  1  1  1  1  1  1     1  1  1  1  1  1  1  1  1  1  1  1\n",
       " 1  1  1  1  1  1  1  1  1  1  1  1  1     1  1  1  1  1  1  1  1  1  1  1  1\n",
       " 1  1  1  1  1  1  1  1  1  1  1  1  1     1  1  1  1  1  1  1  1  1  1  1  1\n",
       " 1  1  1  1  1  1  1  1  1  1  1  1  1     1  1  1  1  1  1  1  1  1  1  1  1"
      ]
     },
     "execution_count": 12,
     "metadata": {},
     "output_type": "execute_result"
    },
    {
     "name": "stdout",
     "output_type": "stream",
     "text": [
      "0.718248 seconds (6 allocations: 30.518 MB, 0.28% gc time)\n"
     ]
    }
   ],
   "source": [
    "# The vectorized function can be applied directly to the plane\n",
    "@time cp = complex_plane()\n",
    "@time j0p = j0(cp)\n"
   ]
  },
  {
   "cell_type": "markdown",
   "metadata": {},
   "source": [
    "The semicolons seem to only delimit keyword arguement calls, where as commas can be used otherwise."
   ]
  },
  {
   "cell_type": "code",
   "execution_count": 14,
   "metadata": {
    "collapsed": true
   },
   "outputs": [],
   "source": [
    "immutable ComplexPlane\n",
    "    x :: LinSpace{Float64}\n",
    "    y :: LinSpace{Float64}\n",
    "    z :: Array{Complex{Float64},2}\n",
    "    \n",
    "    function ComplexPlane(xmin=-2, xmax=2, ymin=-2, ymax=2;\n",
    "                            xpoints=2000, ypoints=2000)\n",
    "        x = linspace(xmin, xmax, xpoints)\n",
    "        y = linspace(ymin, ymax, ypoints)\n",
    "        z = x' .+ y.*im\n",
    "        new(x,y,z)\n",
    "    end\n",
    "end"
   ]
  },
  {
   "cell_type": "code",
   "execution_count": 15,
   "metadata": {
    "collapsed": false
   },
   "outputs": [
    {
     "data": {
      "text/plain": [
       "ComplexPlane"
      ]
     },
     "execution_count": 15,
     "metadata": {},
     "output_type": "execute_result"
    }
   ],
   "source": [
    "cp = ComplexPlane(xpoints=200,ypoints=200);\n",
    "typeof(cp)"
   ]
  },
  {
   "cell_type": "code",
   "execution_count": 16,
   "metadata": {
    "collapsed": false
   },
   "outputs": [
    {
     "name": "stdout",
     "output_type": "stream",
     "text": [
      "LinSpace{"
     ]
    },
    {
     "data": {
      "text/plain": [
       "200x200 Array{Int64,2}:\n",
       " 1  1  1  1  1  1  1  1  1  1  1  1  1  …  1  1  1  1  1  1  1  1  1  1  1  1\n",
       " 1  1  1  1  1  1  1  1  1  1  1  1  1     1  1  1  1  1  1  1  1  1  1  1  1\n",
       " 1  1  1  1  1  1  1  1  1  1  1  1  1     1  1  1  1  1  1  1  1  1  1  1  1\n",
       " 1  1  1  1  1  1  1  1  1  1  1  1  1     1  1  1  1  1  1  1  1  1  1  1  1\n",
       " 1  1  1  1  1  1  1  1  1  1  1  1  1     1  1  1  1  1  1  1  1  1  1  1  1\n",
       " 1  1  1  1  1  1  1  1  1  1  1  1  1  …  1  1  1  1  1  1  1  1  1  1  1  1\n",
       " 1  1  1  1  1  1  1  1  1  1  1  1  1     1  1  1  1  1  1  1  1  1  1  1  1\n",
       " 1  1  1  1  1  1  1  1  1  1  1  1  1     1  1  1  1  1  1  1  1  1  1  1  1\n",
       " 1  1  1  1  1  1  1  1  1  1  1  1  1     1  1  1  1  1  1  1  1  1  1  1  1\n",
       " 1  1  1  1  1  1  1  1  1  1  1  1  1     1  1  1  1  1  1  1  1  1  1  1  1\n",
       " 1  1  1  1  1  1  1  1  1  1  1  1  1  …  1  1  1  1  1  1  1  1  1  1  1  1\n",
       " 1  1  1  1  1  1  1  1  1  1  1  1  1     1  1  1  1  1  1  1  1  1  1  1  1\n",
       " 1  1  1  1  1  1  1  1  1  1  1  1  1     1  1  1  1  1  1  1  1  1  1  1  1\n",
       " ⋮              ⋮              ⋮        ⋱        ⋮              ⋮            \n",
       " 1  1  1  1  1  1  1  1  1  1  1  1  1     1  1  1  1  1  1  1  1  1  1  1  1\n",
       " 1  1  1  1  1  1  1  1  1  1  1  1  1     1  1  1  1  1  1  1  1  1  1  1  1\n",
       " 1  1  1  1  1  1  1  1  1  1  1  1  1  …  1  1  1  1  1  1  1  1  1  1  1  1\n",
       " 1  1  1  1  1  1  1  1  1  1  1  1  1     1  1  1  1  1  1  1  1  1  1  1  1\n",
       " 1  1  1  1  1  1  1  1  1  1  1  1  1     1  1  1  1  1  1  1  1  1  1  1  1\n",
       " 1  1  1  1  1  1  1  1  1  1  1  1  1     1  1  1  1  1  1  1  1  1  1  1  1\n",
       " 1  1  1  1  1  1  1  1  1  1  1  1  1     1  1  1  1  1  1  1  1  1  1  1  1\n",
       " 1  1  1  1  1  1  1  1  1  1  1  1  1  …  1  1  1  1  1  1  1  1  1  1  1  1\n",
       " 1  1  1  1  1  1  1  1  1  1  1  1  1     1  1  1  1  1  1  1  1  1  1  1  1\n",
       " 1  1  1  1  1  1  1  1  1  1  1  1  1     1  1  1  1  1  1  1  1  1  1  1  1\n",
       " 1  1  1  1  1  1  1  1  1  1  1  1  1     1  1  1  1  1  1  1  1  1  1  1  1\n",
       " 1  1  1  1  1  1  1  1  1  1  1  1  1     1  1  1  1  1  1  1  1  1  1  1  1"
      ]
     },
     "execution_count": 16,
     "metadata": {},
     "output_type": "execute_result"
    },
    {
     "name": "stdout",
     "output_type": "stream",
     "text": [
      "Float64}"
     ]
    }
   ],
   "source": [
    "print(typeof(cp.x))\n",
    "j0(cp.z)"
   ]
  },
  {
   "cell_type": "markdown",
   "metadata": {},
   "source": [
    "Ok so I definitely see the benifit of immutable types here - they basically inherit from base types without too much overhead. You can create composite types such as complex numbers that have already the same functionality as real numbers, yet without the overhead of a true class hierarchy."
   ]
  },
  {
   "cell_type": "code",
   "execution_count": 17,
   "metadata": {
    "collapsed": false
   },
   "outputs": [
    {
     "name": "stderr",
     "output_type": "stream",
     "text": [
      "INFO: Precompiling module PyPlot...\n"
     ]
    },
    {
     "ename": "LoadError",
     "evalue": "LoadError: InitError: Failed to pyimport(\"matplotlib\"): PyPlot will not work until you have a functioning matplotlib module.\n\nFor automated Matplotlib installation, try configuring PyCall to use the Conda Python distribution within Julia.  Relaunch Julia and run:\n      ENV[\"PYTHON\"]=\"\"\n      Pkg.build(\"PyCall\")\n      using PyPlot\n\npyimport exception was: PyError (:PyImport_ImportModule) <type 'exceptions.ImportError'>\nImportError('No module named matplotlib',)\n\nduring initialization of module PyPlot\nwhile loading In[17], in expression starting on line 1",
     "output_type": "error",
     "traceback": [
      "LoadError: InitError: Failed to pyimport(\"matplotlib\"): PyPlot will not work until you have a functioning matplotlib module.\n\nFor automated Matplotlib installation, try configuring PyCall to use the Conda Python distribution within Julia.  Relaunch Julia and run:\n      ENV[\"PYTHON\"]=\"\"\n      Pkg.build(\"PyCall\")\n      using PyPlot\n\npyimport exception was: PyError (:PyImport_ImportModule) <type 'exceptions.ImportError'>\nImportError('No module named matplotlib',)\n\nduring initialization of module PyPlot\nwhile loading In[17], in expression starting on line 1",
      "",
      " in __init__ at /projects/a8d4c3ba-b3dd-47c8-9eb2-5e4486993de9/.julia/v0.4/PyPlot/src/PyPlot.jl:229",
      " in _require_from_serialized at loading.jl:84",
      " in require at ./loading.jl:251"
     ]
    }
   ],
   "source": [
    "using PyPlot                         #  Load package into the current namespace\n",
    "c = -1.037 + 0.17im                  #  Set starting point of julia set\n",
    "j(z) = juliamap(c, z)                #  Create julia map\n",
    "@vectorize_1arg Complex j            #  Vectorize julia map\n",
    "cp = ComplexPlane()                  #  Create 2000x2000 point complex plane\n",
    "jp = j(cp.z);                        #  Apply julia map to entire plane\n",
    "\n",
    "xlabel(\"Re(z)\")\n",
    "ylabel(\"Im(z)\")\n",
    "title(\"Julia Set: c = \" * string(c))\n",
    "pcolormesh(cp.x, cp.y, jp, cmap=PyPlot.cm_get_cmap(\"hot\"))\n",
    "display(gcf())                       #  Get Current Figure and display in notebook\n",
    "\n",
    "# alternatively, instead of displaying in notebook, replace previous line with\n",
    "# savefig(\"julia.png\")               #  Output figure to png file\n",
    "\n",
    "c = 1.037 + 0.17im\n",
    "j(z) = juliamap(c, z)\n",
    "jp = j(cp.z);\n",
    "xlabel(\"Re(z)\")\n",
    "ylabel(\"Im(z)\")\n",
    "title(\"Julia Set: c = \" * string(c))\n",
    "pcolormesh(cp.x, cp.y, jp, cmap=PyPlot.cm_get_cmap(\"hot\"))\n",
    "display(gcf())\n",
    "\n",
    "c = 2.0 + 0.2im\n",
    "j(z) = juliamap(c, z)\n",
    "jp = j(cp.z);\n",
    "xlabel(\"Re(z)\")\n",
    "ylabel(\"Im(z)\")\n",
    "title(\"Julia Set: c = \" * string(c))\n",
    "pcolormesh(cp.x, cp.y, jp, cmap=PyPlot.cm_get_cmap(\"hot\"))\n",
    "display(gcf())\n",
    "\n",
    "c = -100.0 + 10.0im\n",
    "j(z) = juliamap(c, z)\n",
    "jp = j(cp.z);\n",
    "xlabel(\"Re(z)\")\n",
    "ylabel(\"Im(z)\")\n",
    "title(\"Julia Set: c = \" * string(c))\n",
    "pcolormesh(cp.x, cp.y, jp, cmap=PyPlot.cm_get_cmap(\"hot\"))\n",
    "display(gcf())\n",
    "\n",
    "c = -1.037 + 0.17im\n",
    "j(z) = juliamap(c, z)\n",
    "jp = j(cp.z);\n",
    "xlabel(\"Re(z)\")\n",
    "ylabel(\"Im(z)\")\n",
    "title(\"Julia Set: c = \" * string(c))\n",
    "pcolormesh(cp.x, cp.y, jp, cmap=PyPlot.cm_get_cmap(\"hot\"))\n",
    "display(gcf())\n"
   ]
  },
  {
   "cell_type": "code",
   "execution_count": null,
   "metadata": {
    "collapsed": true
   },
   "outputs": [],
   "source": []
  }
 ],
 "metadata": {
  "kernelspec": {
   "display_name": "Julia",
   "language": "julia",
   "name": "julia-0.4"
  },
  "language_info": {
   "file_extension": ".jl",
   "mimetype": "application/julia",
   "name": "julia",
   "version": "0.4.1"
  }
 },
 "nbformat": 4,
 "nbformat_minor": 0
}
